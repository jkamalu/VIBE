{
 "cells": [
  {
   "cell_type": "code",
   "execution_count": 1,
   "metadata": {},
   "outputs": [],
   "source": [
    "import torch"
   ]
  },
  {
   "cell_type": "code",
   "execution_count": 120,
   "metadata": {},
   "outputs": [],
   "source": [
    "def bbox_from_keypoints(keypoints):\n",
    "    \"\"\"Extract a bbox from 2D keypoints.\n",
    "    \n",
    "    Arguments:\n",
    "    keypoints -- tensor of 2D joint information (B, J, D)\n",
    "    \"\"\"\n",
    "    x_min = torch.min(keypoints[:, :, 0], dim=1).values.unsqueeze(1)\n",
    "    y_min = torch.min(keypoints[:, :, 1], dim=1).values.unsqueeze(1)\n",
    "    x_max = torch.max(keypoints[:, :, 0], dim=1).values.unsqueeze(1)\n",
    "    y_max = torch.max(keypoints[:, :, 1], dim=1).values.unsqueeze(1)\n",
    "    \n",
    "    return torch.cat([x_min, y_min, x_max, y_max], dim=1)\n"
   ]
  },
  {
   "cell_type": "code",
   "execution_count": 133,
   "metadata": {},
   "outputs": [],
   "source": [
    "keypoints = torch.FloatTensor([\n",
    "    [[1, 1], [2, 2], [0, 3]],\n",
    "    [[1, 1], [1, 2], [5, 5]]\n",
    "]).requires_grad_()\n",
    "\n",
    "bbox = bbox_from_keypoints(keypoints)"
   ]
  },
  {
   "cell_type": "code",
   "execution_count": 128,
   "metadata": {},
   "outputs": [],
   "source": [
    "def bbox_losses(bbox_pred, bbox_real):\n",
    "    \"\"\"Implement GIoU according to https://giou.stanford.edu/GIoU.pdf.\n",
    "    \n",
    "    Arguments:\n",
    "    bbox_pred -- tensor of predicted bboxes given by opposing corners (B, 4)\n",
    "    bbox_real -- tensor of ground truth bboxes given by opposing corners (B, 4)\n",
    "    \"\"\"\n",
    "    \n",
    "    assert len(bbox_pred.shape) == 2 and \\\n",
    "           len(bbox_real.shape) == 2 and \\\n",
    "           bbox_pred.shape == bbox_real.shape\n",
    "\n",
    "    x1_real, y1_real, x2_real, y2_real = torch.split(bbox_real, 1, dim=1)\n",
    "    \n",
    "    x1_pred = torch.min(bbox_pred[:, [0, 2]], dim=1).values.unsqueeze(1)\n",
    "    y1_pred = torch.min(bbox_pred[:, [1, 3]], dim=1).values.unsqueeze(1)\n",
    "    x2_pred = torch.max(bbox_pred[:, [0, 2]], dim=1).values.unsqueeze(1)\n",
    "    y2_pred = torch.max(bbox_pred[:, [1, 3]], dim=1).values.unsqueeze(1)\n",
    "    \n",
    "    x1_crop = torch.min(x1_pred, x1_real)\n",
    "    y1_crop = torch.min(y1_pred, y1_real)\n",
    "    x2_crop = torch.max(x2_pred, x2_real)\n",
    "    y2_crop = torch.max(y2_pred, y2_real)\n",
    "        \n",
    "    A_real = (x2_real - x1_real) * (y2_real - y1_real)\n",
    "    A_pred = (x2_pred - x1_pred) * (y2_pred - y1_pred)\n",
    "    A_crop = (x2_crop - x1_crop) * (y2_crop - y1_crop)\n",
    "    \n",
    "    x1_int = torch.max(x1_pred, x1_real)\n",
    "    y1_int = torch.max(y1_pred, y1_real)\n",
    "    x2_int = torch.min(x2_pred, x2_real)\n",
    "    y2_int = torch.min(y2_pred, y2_real)\n",
    "\n",
    "    mask = (x2_int > x1_int).float() * (y2_int > y1_int).float()\n",
    "    \n",
    "    intersection = (x2_int - x1_int) * (y2_int - y1_int) * mask\n",
    "    union = A_real + A_pred - intersection\n",
    "    \n",
    "    iou = torch.mean(intersection / union)\n",
    "    iou_general = torch.mean(iou - (A_crop - union) / A_crop)\n",
    "    \n",
    "    return 1 - iou, 1 - iou_general\n"
   ]
  },
  {
   "cell_type": "code",
   "execution_count": 131,
   "metadata": {},
   "outputs": [],
   "source": [
    "bbox_pred = torch.stack([\n",
    "    torch.FloatTensor([1, 1, 2, 2]),\n",
    "    torch.FloatTensor([2, 2, 1, 1]),\n",
    "    torch.FloatTensor([1, 1, 2, 2]),\n",
    "    torch.FloatTensor([1, 1, 2, 2]),\n",
    "    torch.FloatTensor([1, 1, 2, 2])\n",
    "]).requires_grad_()\n",
    "\n",
    "bbox_real = torch.stack([\n",
    "    torch.Tensor([1, 1, 2, 2]),\n",
    "    torch.Tensor([1, 1, 2, 2]),\n",
    "    torch.Tensor([1.5, 1.5, 2.5, 2.5]),\n",
    "    torch.Tensor([2, 2, 3, 3]),\n",
    "    torch.Tensor([3, 3, 4, 4]),\n",
    "])\n",
    "\n",
    "loss, loss_general = bbox_losses(bbox_pred, bbox_real)"
   ]
  },
  {
   "cell_type": "code",
   "execution_count": null,
   "metadata": {},
   "outputs": [],
   "source": []
  }
 ],
 "metadata": {
  "kernelspec": {
   "display_name": "Python 3",
   "language": "python",
   "name": "python3"
  },
  "language_info": {
   "codemirror_mode": {
    "name": "ipython",
    "version": 3
   },
   "file_extension": ".py",
   "mimetype": "text/x-python",
   "name": "python",
   "nbconvert_exporter": "python",
   "pygments_lexer": "ipython3",
   "version": "3.7.9"
  }
 },
 "nbformat": 4,
 "nbformat_minor": 4
}
